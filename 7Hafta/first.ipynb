{
 "cells": [
  {
   "cell_type": "code",
   "execution_count": null,
   "metadata": {},
   "outputs": [],
   "source": [
    "# Dosya islemleri"
   ]
  },
  {
   "cell_type": "code",
   "execution_count": null,
   "metadata": {},
   "outputs": [],
   "source": [
    "# dosya okumak ve yazmak icin open() gomulu fonksiyonu mevcuttur."
   ]
  },
  {
   "cell_type": "code",
   "execution_count": null,
   "metadata": {},
   "outputs": [],
   "source": []
  },
  {
   "cell_type": "code",
   "execution_count": null,
   "metadata": {},
   "outputs": [],
   "source": [
    "# Dosya yazma\n",
    "# \"w\" - Write - Opens a file for writing, creates the file if it does not exist"
   ]
  },
  {
   "cell_type": "code",
   "execution_count": null,
   "metadata": {},
   "outputs": [],
   "source": [
    "file = open(\"dosyaYazma1.txt\", \"w\")\n",
    "file.write(\"Tek satir.\")\n",
    "file.close()"
   ]
  },
  {
   "cell_type": "code",
   "execution_count": null,
   "metadata": {},
   "outputs": [],
   "source": [
    "file = open(\"data/dosyaYazma1.txt\", \"w\")\n",
    "file.write(\"Tek satir.\")\n",
    "file.close()"
   ]
  },
  {
   "cell_type": "code",
   "execution_count": null,
   "metadata": {},
   "outputs": [],
   "source": [
    "# \"a\" - Append - Opens a file for appending, creates the file if it does not exist"
   ]
  },
  {
   "cell_type": "code",
   "execution_count": null,
   "metadata": {},
   "outputs": [],
   "source": [
    "file = open(\"data/dosyaYazma1.txt\", \"a\")\n",
    "file.write(\"Tek satir.\")\n",
    "file.writelines([\"Ilk satir\\n\",\"Ikinci satir\\n\"])\n",
    "file.close()"
   ]
  },
  {
   "cell_type": "code",
   "execution_count": null,
   "metadata": {},
   "outputs": [],
   "source": [
    "# Bir liste olusturun listenin elemanlari sirasiyla isim, soyisim, dogum yiliniz ve dogum yeriniz yazsin. \n",
    "# Bu listeyi bir txt file icerisine alt alta yazdirin.\n",
    "# txt fileni yeni olusturdugunuz bir klasor icerisine koyun."
   ]
  },
  {
   "cell_type": "code",
   "execution_count": null,
   "metadata": {},
   "outputs": [],
   "source": []
  },
  {
   "cell_type": "code",
   "execution_count": null,
   "metadata": {},
   "outputs": [],
   "source": []
  },
  {
   "cell_type": "code",
   "execution_count": null,
   "metadata": {},
   "outputs": [],
   "source": []
  },
  {
   "cell_type": "code",
   "execution_count": null,
   "metadata": {},
   "outputs": [],
   "source": []
  },
  {
   "cell_type": "code",
   "execution_count": null,
   "metadata": {},
   "outputs": [],
   "source": [
    "data = [\"Mustafa\", \"Kemal\", \"1995\", \"Netherlands\"]\n",
    "file = open(\"data/ornek1.txt\", \"w\")\n",
    "for data_ in data:\n",
    "    file.write(data_+\"\\n\")\n",
    "file.close()"
   ]
  },
  {
   "cell_type": "code",
   "execution_count": null,
   "metadata": {},
   "outputs": [],
   "source": [
    "# Ayni dosyaya yasadiginiz sehrin ismini ekleyin"
   ]
  },
  {
   "cell_type": "code",
   "execution_count": null,
   "metadata": {},
   "outputs": [],
   "source": []
  },
  {
   "cell_type": "code",
   "execution_count": null,
   "metadata": {},
   "outputs": [],
   "source": []
  },
  {
   "cell_type": "code",
   "execution_count": null,
   "metadata": {},
   "outputs": [],
   "source": []
  },
  {
   "cell_type": "code",
   "execution_count": null,
   "metadata": {},
   "outputs": [],
   "source": []
  },
  {
   "cell_type": "code",
   "execution_count": null,
   "metadata": {},
   "outputs": [],
   "source": [
    "file = open(\"data/ornek1.txt\", \"a\")\n",
    "file.write(\"Leiden\"+\"\\n\")\n",
    "file.close()"
   ]
  },
  {
   "cell_type": "code",
   "execution_count": null,
   "metadata": {},
   "outputs": [],
   "source": [
    "# \"r\" - Read - Default value. Opens a file for reading, error if the file does not exist"
   ]
  },
  {
   "cell_type": "code",
   "execution_count": null,
   "metadata": {},
   "outputs": [],
   "source": [
    "file = open(\"data/ornek1.txt\", \"r\")\n",
    "print(file.read())\n",
    "file.close()"
   ]
  },
  {
   "cell_type": "code",
   "execution_count": null,
   "metadata": {},
   "outputs": [],
   "source": [
    "file = open(\"data/ornek1.txt\", \"r\")"
   ]
  },
  {
   "cell_type": "code",
   "execution_count": null,
   "metadata": {},
   "outputs": [],
   "source": [
    "print(file.readline())"
   ]
  },
  {
   "cell_type": "code",
   "execution_count": null,
   "metadata": {},
   "outputs": [],
   "source": [
    "print(file.readline())"
   ]
  },
  {
   "cell_type": "code",
   "execution_count": null,
   "metadata": {},
   "outputs": [],
   "source": [
    "print(file.readline())\n",
    "file.close()"
   ]
  },
  {
   "cell_type": "code",
   "execution_count": null,
   "metadata": {},
   "outputs": [],
   "source": [
    "print(file.readline())"
   ]
  },
  {
   "cell_type": "code",
   "execution_count": null,
   "metadata": {},
   "outputs": [],
   "source": [
    "try:\n",
    "    file = open(\"data/ornek1.txt\", \"r\")\n",
    "    for line in file.readlines():\n",
    "        print(line)\n",
    "except:\n",
    "    print(\"Bir hata var.\")\n",
    "finally:\n",
    "    file.close()"
   ]
  },
  {
   "cell_type": "code",
   "execution_count": null,
   "metadata": {},
   "outputs": [],
   "source": [
    "# Her satirin altinda bosluklar cikiyor bunun sebebi \\n koymus olmamiz satir olusturmak icin. \n",
    "# Bunlari kaldiralim"
   ]
  },
  {
   "cell_type": "code",
   "execution_count": null,
   "metadata": {},
   "outputs": [],
   "source": []
  },
  {
   "cell_type": "code",
   "execution_count": null,
   "metadata": {},
   "outputs": [],
   "source": []
  },
  {
   "cell_type": "code",
   "execution_count": null,
   "metadata": {},
   "outputs": [],
   "source": []
  },
  {
   "cell_type": "code",
   "execution_count": null,
   "metadata": {},
   "outputs": [],
   "source": []
  },
  {
   "cell_type": "code",
   "execution_count": null,
   "metadata": {},
   "outputs": [],
   "source": [
    "try:\n",
    "    file = open(\"data/ornek1.txt\", \"r\")\n",
    "    for line in file.readlines():\n",
    "        print(line[:-1])\n",
    "except:\n",
    "    print(\"Bir hata var.\")\n",
    "finally:\n",
    "    file.close()"
   ]
  },
  {
   "cell_type": "code",
   "execution_count": null,
   "metadata": {},
   "outputs": [],
   "source": [
    "# \"x\" - Create - Creates the specified file, returns an error if the file exists\n",
    "try:\n",
    "    file = open(\"data/ornek1.txt\", \"x\")\n",
    "except:\n",
    "    print(\"File exists\")\n",
    "finally:\n",
    "    file.close()"
   ]
  },
  {
   "cell_type": "code",
   "execution_count": null,
   "metadata": {},
   "outputs": [],
   "source": [
    "# Dosya okumak icin try except finally kullaniyoruz acip kapatmak icin. bunun yerine with open function inin kullanirsak buna gerek kalmayacaktir."
   ]
  },
  {
   "cell_type": "code",
   "execution_count": null,
   "metadata": {},
   "outputs": [],
   "source": [
    "data = [\"A\",\"B\",\"C\",\"D\",\"E\"]\n",
    "with open(\"data/ornek2.txt\", \"w\") as file:\n",
    "    file.writelines(data)\n",
    "    for d in data:\n",
    "        file.write(\"\\n\" + d)"
   ]
  },
  {
   "cell_type": "code",
   "execution_count": null,
   "metadata": {},
   "outputs": [],
   "source": [
    "## Dosya zaten kapandigi icin write islemi yapamayiz.\n",
    "file.write(\"A\")"
   ]
  },
  {
   "cell_type": "code",
   "execution_count": null,
   "metadata": {},
   "outputs": [],
   "source": [
    "with open(\"data/lorem.txt\", \"r\") as dosya:\n",
    "    print(dosya.read())"
   ]
  },
  {
   "cell_type": "code",
   "execution_count": null,
   "metadata": {},
   "outputs": [],
   "source": [
    "with open(\"data/lorem.txt\", \"r\") as dosya:\n",
    "    print(dosya.readline())\n",
    "    print(dosya.readline())\n",
    "    dosya.seek(0)\n",
    "    print(dosya.readline())"
   ]
  },
  {
   "cell_type": "code",
   "execution_count": null,
   "metadata": {},
   "outputs": [],
   "source": [
    "with open(\"data/lorem.txt\", \"r\") as dosya:\n",
    "    dosya.seek(4) # 2. indexe goturuyor.\n",
    "    print(dosya.readline())"
   ]
  },
  {
   "cell_type": "code",
   "execution_count": null,
   "metadata": {},
   "outputs": [],
   "source": [
    "with open(\"data/lorem.txt\", \"r\") as dosya:\n",
    "    print(dosya.tell())\n",
    "    print(dosya.readline())\n",
    "    print(dosya.tell())"
   ]
  },
  {
   "cell_type": "code",
   "execution_count": null,
   "metadata": {},
   "outputs": [],
   "source": [
    "# Bu ogrendiklerimizle isim, soyisim yazdigimiz dosyanin basina baslik ekleyelim ekleyelim\n",
    "# seek function'i kullanabiliriz.\n",
    "# r+ hem okuyup hem de yazmamizi saglar.\n",
    "# soyisimlerden sonra diger bilgileri ekleyin"
   ]
  },
  {
   "cell_type": "markdown",
   "metadata": {},
   "source": []
  },
  {
   "cell_type": "code",
   "execution_count": null,
   "metadata": {},
   "outputs": [],
   "source": [
    "data = [\"Mustafa\", \"Kemal\", \"1995\", \"Netherlands\"]\n",
    "file = open(\"data/ornek4.txt\", \"w\")\n",
    "for data_ in data:\n",
    "    file.write(data_+\"\\n\")\n",
    "file.close()"
   ]
  },
  {
   "cell_type": "code",
   "execution_count": null,
   "metadata": {},
   "outputs": [],
   "source": [
    "with open(\"data/ornek4.txt\", \"r+\") as f:\n",
    "    veri = f.read()\n",
    "    f.seek(0)\n",
    "    f.write(\"Informations\\n\" + veri)"
   ]
  },
  {
   "cell_type": "code",
   "execution_count": null,
   "metadata": {},
   "outputs": [],
   "source": [
    "with open(\"data/ornek4.txt\", \"r+\") as f:\n",
    "    veri = f.readlines()\n",
    "    veri.insert(3, \"Other Information\\n\")\n",
    "    f.seek(0)\n",
    "    f.writelines(veri)"
   ]
  },
  {
   "cell_type": "code",
   "execution_count": null,
   "metadata": {},
   "outputs": [],
   "source": [
    "# bir fonksiyon yazalim. Bu fonksiyon bir txt dosyasi icerisindeki texti okusun ve en uzun kelimeyi bize bulsun.\n",
    "def longest_word(filename):\n",
    "    pass"
   ]
  },
  {
   "cell_type": "code",
   "execution_count": null,
   "metadata": {},
   "outputs": [],
   "source": []
  },
  {
   "cell_type": "code",
   "execution_count": null,
   "metadata": {},
   "outputs": [],
   "source": []
  },
  {
   "cell_type": "code",
   "execution_count": null,
   "metadata": {},
   "outputs": [],
   "source": []
  },
  {
   "cell_type": "code",
   "execution_count": null,
   "metadata": {},
   "outputs": [],
   "source": []
  },
  {
   "cell_type": "code",
   "execution_count": null,
   "metadata": {},
   "outputs": [],
   "source": [
    "def longest_word(filename):\n",
    "    with open(filename, 'r') as file:\n",
    "              words = file.read().split()\n",
    "    kelimenin_boyutu = 0\n",
    "    kelime = \"\"\n",
    "    for word in words:\n",
    "        if len(word) > kelimenin_boyutu:\n",
    "              kelimenin_boyutu = len(word)\n",
    "              kelime = word\n",
    "    return kelime\n",
    "\n",
    "print(longest_word('data/longest_words.txt'))"
   ]
  },
  {
   "cell_type": "code",
   "execution_count": null,
   "metadata": {},
   "outputs": [],
   "source": [
    "max([\"asd\",\"a\", \"asdfjjja\",\"bas\"])"
   ]
  },
  {
   "cell_type": "code",
   "execution_count": null,
   "metadata": {},
   "outputs": [],
   "source": []
  },
  {
   "cell_type": "code",
   "execution_count": null,
   "metadata": {},
   "outputs": [],
   "source": []
  },
  {
   "cell_type": "code",
   "execution_count": null,
   "metadata": {},
   "outputs": [],
   "source": []
  },
  {
   "attachments": {},
   "cell_type": "markdown",
   "metadata": {},
   "source": [
    "JSON, \"JavaScript Object Notation\" kelimelerinin kısaltmasıdır. Bu, verileri depolamak ve paylaşmak için kullanılan bir veri formatıdır. JSON veri tipi, metin tabanlıdır ve verileri anahtar-değer çiftleri şeklinde depolar. Anahtar-değer çiftleri, bir veri öğesine isim vermek ve bu öğenin değerini tanımlamak için kullanılır. Örneğin, bir kişinin adını ve yaşını depolamak için \"name\" ve \"age\" anahtarları oluşturabilirsiniz.\n",
    "\n",
    "JSON veri tipi, web uygulamaları ve web servisleri arasında veri göndermek için yaygın olarak kullanılır. Ayrıca, mobil uygulamalar ve veri depolama alanlarında da kullanılır. JSON, XML gibi diğer veri formatlarına göre daha hafif ve daha okunaklıdır.\n",
    "\n",
    "JSON veri tipinin kullanımı oldukça basit ve genellikle veri alışverişi yapmak için kullanılan API'lerde sıklıkla kullanılır. Örneğin, bir uygulama, bir sunucudan veri almak için JSON formatında bir istek gönderir ve sunucu da yanıtı JSON formatında gönderir. Ayrıca, veri depolama alanlarında JSON veri tipi kullanılarak verilerin organize edilmesi ve yönetilmesi de kolaylaşır.\n",
    "\n",
    "JSON veri tipi hakkında bilgi verirken, örneklerle ve uygulamalı örneklerle konuyu açıklamak daha kolay anlaşılmasını sağlayacaktır. Sade ve anlaşılır bir dille anlatarak, konuyu öğrenmek isteyenlere yardımcı olabilirsiniz."
   ]
  },
  {
   "cell_type": "code",
   "execution_count": null,
   "metadata": {},
   "outputs": [],
   "source": [
    "# JSON"
   ]
  },
  {
   "cell_type": "code",
   "execution_count": null,
   "metadata": {},
   "outputs": [],
   "source": [
    "{\n",
    "  \"name\": \"Mustafa\",\n",
    "  \"surname\": \"Kemal\",\n",
    "  \"age\": 27\n",
    "}"
   ]
  },
  {
   "cell_type": "code",
   "execution_count": null,
   "metadata": {},
   "outputs": [],
   "source": [
    "{\n",
    "  \"name\": \"Ayşe\",\n",
    "  \"surname\": \"Kara\",\n",
    "  \"phones\": [\n",
    "    {\n",
    "      \"type\": \"home\",\n",
    "      \"number\": \"555-555-1234\"\n",
    "    },\n",
    "    {\n",
    "      \"type\": \"work\",\n",
    "      \"number\": \"555-555-5678\"\n",
    "    }\n",
    "  ]\n",
    "}\n"
   ]
  },
  {
   "cell_type": "code",
   "execution_count": null,
   "metadata": {},
   "outputs": [],
   "source": [
    "{\n",
    "  \"menu\": {\n",
    "    \"breakfast\": {\n",
    "      \"id\": \"001\",\n",
    "      \"name\": \"Kahvaltı Tabağı\",\n",
    "      \"description\": \"2 adet yumurta, sucuk, domates, biber ve ekmek\",\n",
    "      \"price\": 15.99\n",
    "    },\n",
    "    \"lunch\": {\n",
    "      \"id\": \"002\",\n",
    "      \"name\": \"Etli Makarna\",\n",
    "      \"description\": \"Taze makarna ve et sosu\",\n",
    "      \"price\": 12.99\n",
    "    },\n",
    "    \"dinner\": {\n",
    "      \"id\": \"003\",\n",
    "      \"name\": \"Izgara Tavuk\",\n",
    "      \"description\": \"Izgara tavuk, sebzeler ve pilav\",\n",
    "      \"price\": 18.99\n",
    "    }\n",
    "  }\n",
    "}\n"
   ]
  },
  {
   "cell_type": "code",
   "execution_count": 83,
   "metadata": {},
   "outputs": [],
   "source": [
    "import json"
   ]
  },
  {
   "cell_type": "code",
   "execution_count": 84,
   "metadata": {},
   "outputs": [
    {
     "name": "stdout",
     "output_type": "stream",
     "text": [
      "{'menu': {'breakfast': {'id': '001', 'name': 'Kahvaltı Tabağı', 'description': '2 adet yumurta, sucuk, domates, biber ve ekmek', 'price': 15.99}, 'lunch': {'id': '002', 'name': 'Etli Makarna', 'description': 'Taze makarna ve et sosu', 'price': 12.99}, 'dinner': {'id': '003', 'name': 'Izgara Tavuk', 'description': 'Izgara tavuk, sebzeler ve pilav', 'price': 18.99}}}\n"
     ]
    }
   ],
   "source": [
    "with open(\"data/menu.json\", \"r\") as file:\n",
    "    veri = json.load(file)\n",
    "print(veri)"
   ]
  },
  {
   "cell_type": "code",
   "execution_count": 85,
   "metadata": {},
   "outputs": [
    {
     "data": {
      "text/plain": [
       "dict"
      ]
     },
     "execution_count": 85,
     "metadata": {},
     "output_type": "execute_result"
    }
   ],
   "source": [
    "type(veri)"
   ]
  },
  {
   "cell_type": "code",
   "execution_count": 86,
   "metadata": {},
   "outputs": [],
   "source": [
    "kisisel_bilgiler = {\n",
    "  \"name\": \"Ayse\",\n",
    "  \"surname\": \"Kara\",\n",
    "  \"phones\": [\n",
    "    {\n",
    "      \"type\": \"home\",\n",
    "      \"number\": \"555-555-1234\"\n",
    "    },\n",
    "    {\n",
    "      \"type\": \"work\",\n",
    "      \"number\": \"555-555-5678\"\n",
    "    }\n",
    "  ]\n",
    "}\n"
   ]
  },
  {
   "cell_type": "code",
   "execution_count": 92,
   "metadata": {},
   "outputs": [],
   "source": [
    "with open(\"data/kisisel_bilgilerrr.json\", \"w\") as file:\n",
    "    json.dump(kisisel_bilgiler, file)"
   ]
  },
  {
   "cell_type": "code",
   "execution_count": 88,
   "metadata": {},
   "outputs": [
    {
     "name": "stdout",
     "output_type": "stream",
     "text": [
      "{\"name\": \"Ayse\", \"surname\": \"Kara\", \"phones\": [{\"type\": \"home\", \"number\": \"555-555-1234\"}, {\"type\": \"work\", \"number\": \"555-555-5678\"}]}\n"
     ]
    }
   ],
   "source": [
    "kisisel_bilgiler_json = json.dumps(kisisel_bilgiler)\n",
    "print(kisisel_bilgiler_json)"
   ]
  },
  {
   "cell_type": "code",
   "execution_count": 89,
   "metadata": {},
   "outputs": [
    {
     "data": {
      "text/plain": [
       "{'isim': 'ahmet', 'dil': ['tr', 'ing', 'alm']}"
      ]
     },
     "execution_count": 89,
     "metadata": {},
     "output_type": "execute_result"
    }
   ],
   "source": [
    "a = '{\"isim\": \"ahmet\", \"dil\": [\"tr\",\"ing\",\"alm\"]}'\n",
    "a_dict = json.loads(a)\n",
    "a_dict"
   ]
  },
  {
   "cell_type": "code",
   "execution_count": 90,
   "metadata": {},
   "outputs": [
    {
     "name": "stdout",
     "output_type": "stream",
     "text": [
      "{\n",
      "    \"dil\": [\n",
      "        \"tr\",\n",
      "        \"ing\",\n",
      "        \"alm\"\n",
      "    ],\n",
      "    \"isim\": \"ahmet\"\n",
      "}\n"
     ]
    }
   ],
   "source": [
    "print(json.dumps(a_dict, indent=4, sort_keys=True))"
   ]
  },
  {
   "cell_type": "code",
   "execution_count": null,
   "metadata": {},
   "outputs": [],
   "source": []
  }
 ],
 "metadata": {
  "kernelspec": {
   "display_name": "Python 3",
   "language": "python",
   "name": "python3"
  },
  "language_info": {
   "codemirror_mode": {
    "name": "ipython",
    "version": 3
   },
   "file_extension": ".py",
   "mimetype": "text/x-python",
   "name": "python",
   "nbconvert_exporter": "python",
   "pygments_lexer": "ipython3",
   "version": "3.10.10"
  },
  "orig_nbformat": 4,
  "vscode": {
   "interpreter": {
    "hash": "31f2aee4e71d21fbe5cf8b01ff0e069b9275f58929596ceb00d14d90e3e16cd6"
   }
  }
 },
 "nbformat": 4,
 "nbformat_minor": 2
}
