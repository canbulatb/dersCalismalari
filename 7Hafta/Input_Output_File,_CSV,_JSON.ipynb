{
  "nbformat": 4,
  "nbformat_minor": 0,
  "metadata": {
    "colab": {
      "provenance": []
    },
    "kernelspec": {
      "name": "python3",
      "display_name": "Python 3"
    },
    "language_info": {
      "name": "python"
    }
  },
  "cells": [
    {
      "cell_type": "markdown",
      "source": [
        "# Input/ Output - File, CSV, JSON"
      ],
      "metadata": {
        "id": "06TGhBMx9JZ5"
      }
    },
    {
      "cell_type": "markdown",
      "source": [
        "##File operation\n",
        "###Write a file\n",
        "- Step 1: Create the file"
      ],
      "metadata": {
        "id": "R7FE8a919Yar"
      }
    },
    {
      "cell_type": "code",
      "source": [
        "#from google.colab import drive\n",
        "#drive.mount('/content/drive')"
      ],
      "metadata": {
        "id": "stNDUMQb_qji"
      },
      "execution_count": null,
      "outputs": []
    },
    {
      "cell_type": "code",
      "source": [
        "f = open(\"test.json\",\"w\")"
      ],
      "metadata": {
        "id": "QSOOqvSo9XYU"
      },
      "execution_count": 2,
      "outputs": []
    },
    {
      "cell_type": "markdown",
      "source": [
        "You can write different kind of files by changing file name, \n",
        "like `name.txt`,`name.json`,`name.csv`. \n",
        "\n",
        "But different file has different ways to write and read.\n",
        "\n",
        "‘w' means write."
      ],
      "metadata": {
        "id": "IrEgtBpP94T-"
      }
    },
    {
      "cell_type": "code",
      "source": [
        "f1 = open(\"test.csv\",\"w\")"
      ],
      "metadata": {
        "id": "ozA-QInw-Shm"
      },
      "execution_count": 3,
      "outputs": []
    },
    {
      "cell_type": "markdown",
      "source": [
        "- Step 2: Write content\n"
      ],
      "metadata": {
        "id": "5F1wXYlp-mdv"
      }
    },
    {
      "cell_type": "code",
      "source": [
        "f.write('python tutorial')\n",
        "f.close()"
      ],
      "metadata": {
        "id": "AXe0pOh0-Z3K"
      },
      "execution_count": 4,
      "outputs": []
    },
    {
      "cell_type": "markdown",
      "source": [],
      "metadata": {
        "id": "Xz1RNrt1ANUi"
      }
    },
    {
      "cell_type": "markdown",
      "source": [
        "f.close() to close the writing, this will close the instance of the file `test.json` stored.\n"
      ],
      "metadata": {
        "id": "p6CjVGJR-6It"
      }
    },
    {
      "cell_type": "markdown",
      "source": [
        "- Read a file\n",
        "\n",
        "You also need to open the file first and then read the content.\n",
        "\n",
        "Syntax:"
      ],
      "metadata": {
        "id": "dtxX_lx6ASOO"
      }
    },
    {
      "cell_type": "code",
      "source": [
        "f = open(\"/menu.json\", \"r+\")\n",
        "contents=f.read() #read all\n",
        "contents"
      ],
      "metadata": {
        "colab": {
          "base_uri": "https://localhost:8080/",
          "height": 157
        },
        "id": "Hu2YJjHW-v0I",
        "outputId": "8cc27281-3cbb-4933-a674-33599d7aa0c4"
      },
      "execution_count": 9,
      "outputs": [
        {
          "output_type": "execute_result",
          "data": {
            "text/plain": [
              "'{\\n    \"menu\": {\\n      \"breakfast\": {\\n        \"id\": \"001\",\\n        \"name\": \"Kahvaltı Tabağı\",\\n        \"description\": \"2 adet yumurta, sucuk, domates, biber ve ekmek\",\\n        \"price\": 15.99\\n      },\\n      \"lunch\": {\\n        \"id\": \"002\",\\n        \"name\": \"Etli Makarna\",\\n        \"description\": \"Taze makarna ve et sosu\",\\n        \"price\": 12.99\\n      },\\n      \"dinner\": {\\n        \"id\": \"003\",\\n        \"name\": \"Izgara Tavuk\",\\n        \"description\": \"Izgara tavuk, sebzeler ve pilav\",\\n        \"price\": 18.99\\n      }\\n    }\\n  }\\n  '"
            ],
            "application/vnd.google.colaboratory.intrinsic+json": {
              "type": "string"
            }
          },
          "metadata": {},
          "execution_count": 9
        }
      ]
    },
    {
      "cell_type": "markdown",
      "source": [
        "##What does JSON looks like?\n",
        "\n",
        "- Example 3"
      ],
      "metadata": {
        "id": "9cB3v2-izP--"
      }
    },
    {
      "cell_type": "code",
      "source": [
        "{\n",
        "    \"firstName\": \"Jane\",\n",
        "    \"lastName\": \"Doe\",\n",
        "    \"hobbies\": [\"running\", \"sky diving\", \"singing\"],\n",
        "    \"age\": 35,\n",
        "    \"children\": [\n",
        "        {\n",
        "            \"firstName\": \"Alice\",\n",
        "            \"age\": 6\n",
        "        },\n",
        "        {\n",
        "            \"firstName\": \"Bob\",\n",
        "            \"age\": 8\n",
        "        }\n",
        "    ]\n",
        "}\n"
      ],
      "metadata": {
        "colab": {
          "base_uri": "https://localhost:8080/"
        },
        "id": "Lw82LUUkAcpm",
        "outputId": "bff02a40-208f-403a-d018-632c625b6ea0"
      },
      "execution_count": 2,
      "outputs": [
        {
          "output_type": "execute_result",
          "data": {
            "text/plain": [
              "{'firstName': 'Jane',\n",
              " 'lastName': 'Doe',\n",
              " 'hobbies': ['running', 'sky diving', 'singing'],\n",
              " 'age': 35,\n",
              " 'children': [{'firstName': 'Alice', 'age': 6},\n",
              "  {'firstName': 'Bob', 'age': 8}]}"
            ]
          },
          "metadata": {},
          "execution_count": 2
        }
      ]
    },
    {
      "cell_type": "markdown",
      "source": [
        "Why to use JSON?\n",
        "\n",
        "The advantages of JSON:\n",
        "\n",
        "The data size is small. Compared with XML(another) file type to store and exchange data, JSON is small in size and faster in passing.\n",
        "The transmission speed is fast. JSON is much faster than XML.\n",
        "Data format is simple, easy to read and write, and the format is compressed.\n",
        "Easy to use with python, JSON is a form of k-v structure.\n",
        "In simple terms, JSON is a dict, which has keys, each key corresponds to a value. The middle is separated by : , the outermost is surrounded by {}, and the different key-value pairs are separated by ,. Example like this"
      ],
      "metadata": {
        "id": "l8HIuWzIzkrR"
      }
    },
    {
      "cell_type": "code",
      "source": [
        "{'key1': 'value1', 'key2': 'value2', 'key3': 'value3'}"
      ],
      "metadata": {
        "colab": {
          "base_uri": "https://localhost:8080/"
        },
        "id": "NmsBvPanzZUH",
        "outputId": "2e65cbc6-80f7-4f03-9509-9a24d47f0e21"
      },
      "execution_count": 3,
      "outputs": [
        {
          "output_type": "execute_result",
          "data": {
            "text/plain": [
              "{'key1': 'value1', 'key2': 'value2', 'key3': 'value3'}"
            ]
          },
          "metadata": {},
          "execution_count": 3
        }
      ]
    },
    {
      "cell_type": "markdown",
      "source": [
        "If there is a case where a Key corresponds to multiple values, use [] to include all the corresponding values.\n",
        "\n"
      ],
      "metadata": {
        "id": "kOFdN4M4zrPY"
      }
    },
    {
      "cell_type": "code",
      "source": [
        "{'key1': ['v11', 'v12', 'v13'], 'key2': 'v22'}"
      ],
      "metadata": {
        "colab": {
          "base_uri": "https://localhost:8080/"
        },
        "id": "iqR1oNWKzoa0",
        "outputId": "ff94d15b-beba-4afe-8df6-dae35cda5c3b"
      },
      "execution_count": 4,
      "outputs": [
        {
          "output_type": "execute_result",
          "data": {
            "text/plain": [
              "{'key1': ['v11', 'v12', 'v13'], 'key2': 'v22'}"
            ]
          },
          "metadata": {},
          "execution_count": 4
        }
      ]
    },
    {
      "cell_type": "markdown",
      "source": [
        "##JSON functions\n",
        "`json.dumps`: Serialize object to a JSON formatted str\n",
        "Syntax\n"
      ],
      "metadata": {
        "id": "RNLb9ueLz4dm"
      }
    },
    {
      "cell_type": "markdown",
      "source": [
        "`json.dumps(obj, skipkeys=False, ensure_ascii=True, check_circular=True, allow_nan=True, cls=None, indent=None, separators=None, encoding=\"utf-8\", default=None, sort_keys=False, **kw)`\n",
        "\n",
        "Don't be panic, we do not have to use those all parameters. Basically, you need to know those two.\n",
        "\n",
        "If `sort_keys` is true (default: False), then the output of dictionaries will be sorted by key.\n",
        "If `ensure_ascii` is true (the default), the output is guaranteed to have all incoming non-ASCII characters escaped like Chinese. If ensure_ascii is false, these characters will be output as-is.\n",
        " - Example: Convert Python object data into JSON string\n"
      ],
      "metadata": {
        "id": "Muu0zecj0FvY"
      }
    },
    {
      "cell_type": "code",
      "source": [
        "import json\n",
        "\n",
        "data = {\n",
        "    'name' : 'ACME',\n",
        "    'shares' : 100,\n",
        "    'price' : 542.23\n",
        "}\n",
        "json_str = json.dumps(data)\n",
        "json_str"
      ],
      "metadata": {
        "colab": {
          "base_uri": "https://localhost:8080/",
          "height": 35
        },
        "id": "S4KpREm5zt93",
        "outputId": "9a15cbd7-31ae-45a0-90b0-654c967f73af"
      },
      "execution_count": 2,
      "outputs": [
        {
          "output_type": "execute_result",
          "data": {
            "text/plain": [
              "'{\"name\": \"ACME\", \"shares\": 100, \"price\": 542.23}'"
            ],
            "application/vnd.google.colaboratory.intrinsic+json": {
              "type": "string"
            }
          },
          "metadata": {},
          "execution_count": 2
        }
      ]
    },
    {
      "cell_type": "markdown",
      "source": [
        "If you want to save the JSON string to a file, so that others can re-use this file, you can use `open() with the .write()` function to achieve that."
      ],
      "metadata": {
        "id": "TFGzfJ8O0prl"
      }
    },
    {
      "cell_type": "code",
      "source": [
        "with open('json_data.json', \"w\") as f:\n",
        "    f.write(json_str)\n",
        "    f.close()"
      ],
      "metadata": {
        "id": "hjvYCd7T0gSO"
      },
      "execution_count": 3,
      "outputs": []
    },
    {
      "cell_type": "markdown",
      "source": [
        "`json.loads`: Deserialize JSON str to a Python object\n",
        "\n",
        "Syntax\n",
        "\n",
        "`json.loads(s, *, encoding=None, cls=None, object_hook=None, parse_float=None, parse_int=None, parse_constant=None, object_pairs_hook=None, **kw)`"
      ],
      "metadata": {
        "id": "I4ST6o1j2L9y"
      }
    },
    {
      "cell_type": "markdown",
      "source": [
        "- Example: Parse JSON string to Python internal data structure.\n",
        "\n"
      ],
      "metadata": {
        "id": "0T2pWt3Y2lKV"
      }
    },
    {
      "cell_type": "code",
      "source": [
        "json_str = '''\n",
        "{\n",
        "    \"dataset\": {\n",
        "        \"train\": { \"type\": \"mnist\", \"data_set\": \"train\", \"layout_x\": \"tensor\" },\n",
        "        \"test\": { \"type\": \"mnist\", \"data_set\": \"test\", \"layout_x\": \"tensor\" }\n",
        "    }\n",
        "}\n",
        "'''\n",
        "\n",
        "import json\n",
        "result = json.loads(json_str)\n",
        "result"
      ],
      "metadata": {
        "colab": {
          "base_uri": "https://localhost:8080/"
        },
        "id": "I_jA1fGe0xLA",
        "outputId": "959baa4d-fd50-4b71-e9f4-5e6e9a2d45db"
      },
      "execution_count": 4,
      "outputs": [
        {
          "output_type": "execute_result",
          "data": {
            "text/plain": [
              "{'dataset': {'train': {'type': 'mnist',\n",
              "   'data_set': 'train',\n",
              "   'layout_x': 'tensor'},\n",
              "  'test': {'type': 'mnist', 'data_set': 'test', 'layout_x': 'tensor'}}}"
            ]
          },
          "metadata": {},
          "execution_count": 4
        }
      ]
    },
    {
      "cell_type": "markdown",
      "source": [
        "`json.load` & `json dump`"
      ],
      "metadata": {
        "id": "BE2PLsBC3Fl1"
      }
    },
    {
      "cell_type": "markdown",
      "source": [
        "Actually, if we want to convert between json file with python object. We can directly use `json.load` & `json.dump`. The difference between `loads` and `load` or `dumps` and `dump` is that you can get the string by using -s method. And sometimes, we need those strings to do other things instead of justing writing into files.\n",
        "\n",
        "- Example: Converting between JSON file and Python object"
      ],
      "metadata": {
        "id": "crkImRVn3Y7a"
      }
    },
    {
      "cell_type": "code",
      "source": [
        "stu = {\n",
        "    \"age\": 20,\n",
        "    \"score\": 88,\n",
        "    \"name\": \"Bob\"\n",
        "}\n",
        "with open('stu.json', 'w') as f:\n",
        "    json.dump(stu, f) #converting Python object to JSON file"
      ],
      "metadata": {
        "id": "vQ3Dunof2TmC"
      },
      "execution_count": 5,
      "outputs": []
    },
    {
      "cell_type": "markdown",
      "source": [
        "Open the stu.json file, it will output like:\n"
      ],
      "metadata": {
        "id": "FqLWQqBg3ycJ"
      }
    },
    {
      "cell_type": "code",
      "source": [
        "{\"age\": 20, \"score\": 88, \"name\": \"Bob\"}"
      ],
      "metadata": {
        "colab": {
          "base_uri": "https://localhost:8080/"
        },
        "id": "8oZTAtpe39AP",
        "outputId": "95d2f803-affb-4dd0-e834-310d8698db5d"
      },
      "execution_count": 6,
      "outputs": [
        {
          "output_type": "execute_result",
          "data": {
            "text/plain": [
              "{'age': 20, 'score': 88, 'name': 'Bob'}"
            ]
          },
          "metadata": {},
          "execution_count": 6
        }
      ]
    },
    {
      "cell_type": "code",
      "source": [
        "with open('stu.json', 'r') as f:\n",
        "     data = json.load(f) #converting JSON file to Python object\n",
        "data"
      ],
      "metadata": {
        "colab": {
          "base_uri": "https://localhost:8080/"
        },
        "id": "TictlBue3nqv",
        "outputId": "68f4d7cc-d5a5-4b24-c0ab-45a3d4a04bdb"
      },
      "execution_count": 7,
      "outputs": [
        {
          "output_type": "execute_result",
          "data": {
            "text/plain": [
              "{'age': 20, 'score': 88, 'name': 'Bob'}"
            ]
          },
          "metadata": {},
          "execution_count": 7
        }
      ]
    },
    {
      "cell_type": "code",
      "source": [
        "#Output:\n",
        "\n",
        "{\"age\": 20, \"score\": 88, \"name\": \"Bob\"}"
      ],
      "metadata": {
        "colab": {
          "base_uri": "https://localhost:8080/"
        },
        "id": "KFd2KDd24C_h",
        "outputId": "b7b91e77-c6c5-44e3-d4be-e3bfe35cc142"
      },
      "execution_count": 14,
      "outputs": [
        {
          "output_type": "execute_result",
          "data": {
            "text/plain": [
              "{'age': 20, 'score': 88, 'name': 'Bob'}"
            ]
          },
          "metadata": {},
          "execution_count": 14
        }
      ]
    },
    {
      "cell_type": "code",
      "source": [
        "import json\n",
        "print(json.dumps({'4': 5, '6': 7}, sort_keys=True, indent=4))\n",
        "{\n",
        "    \"4\": 5,\n",
        "    \"6\": 7\n",
        "}"
      ],
      "metadata": {
        "colab": {
          "base_uri": "https://localhost:8080/"
        },
        "id": "5GKyMQcg4UWg",
        "outputId": "94dd309f-7a6e-4a63-ede9-13dfaca560b2"
      },
      "execution_count": 8,
      "outputs": [
        {
          "output_type": "stream",
          "name": "stdout",
          "text": [
            "{\n",
            "    \"4\": 5,\n",
            "    \"6\": 7\n",
            "}\n"
          ]
        },
        {
          "output_type": "execute_result",
          "data": {
            "text/plain": [
              "{'4': 5, '6': 7}"
            ]
          },
          "metadata": {},
          "execution_count": 8
        }
      ]
    },
    {
      "cell_type": "markdown",
      "source": [],
      "metadata": {
        "id": "0Qmy-LjD4UFt"
      }
    }
  ]
}