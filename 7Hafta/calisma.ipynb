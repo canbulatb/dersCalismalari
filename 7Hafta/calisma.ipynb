{
 "cells": [
  {
   "cell_type": "code",
   "execution_count": 38,
   "metadata": {},
   "outputs": [],
   "source": [
    "#kaggle.com\n",
    "file=open(\"data/dosyaYazma1.txt\",\"w\")\n",
    "file.write(\"Tek satir.\")\n",
    "file.write(\"ilk satir.\")\n",
    "file.close()\n"
   ]
  },
  {
   "cell_type": "code",
   "execution_count": 65,
   "metadata": {},
   "outputs": [],
   "source": [
    "liste=[\"isim\",\"soyisim\",\"doğumyili\",\"dogumTarihi\"]\n",
    "\n",
    "file=open(\"data/bilgiler.txt\",\"w\")\n",
    "\n",
    "for l in liste:\n",
    "    file.write(l+\"\\n\")\n",
    "file.close()"
   ]
  },
  {
   "cell_type": "code",
   "execution_count": 21,
   "metadata": {},
   "outputs": [],
   "source": [
    "file=open(\"data/bilgiler.txt\",\"a\")\n",
    "file.write(\"YaşadığınSehir\\n\")\n",
    "file.close()"
   ]
  },
  {
   "cell_type": "code",
   "execution_count": 22,
   "metadata": {},
   "outputs": [
    {
     "name": "stdout",
     "output_type": "stream",
     "text": [
      "isim\n",
      "soyisim\n",
      "doğumyili\n",
      "dogumTarihi\n",
      "YaşadığınSehir\n",
      "\n"
     ]
    }
   ],
   "source": [
    "file=open(\"data/bilgiler.txt\",\"r\")\n",
    "print(file.read())\n",
    "file.close()\n"
   ]
  },
  {
   "cell_type": "code",
   "execution_count": 28,
   "metadata": {},
   "outputs": [
    {
     "name": "stdout",
     "output_type": "stream",
     "text": [
      "abcde\n",
      "a\n",
      "b\n",
      "c\n",
      "d\n",
      "e\n"
     ]
    }
   ],
   "source": [
    "data=[\"a\",\"b\",\"c\",\"d\",\"e\"]\n",
    "with open(\"data/ornek2.txt\",\"w\") as file:\n",
    "    file.writelines(data)\n",
    "    for d in data:\n",
    "        file.write(\"\\n\"+d)\n",
    "    \n",
    "with open(\"data/ornek2.txt\",\"r\") as file:\n",
    "    print(file.read())\n",
    "    \n",
    "        "
   ]
  },
  {
   "cell_type": "code",
   "execution_count": 31,
   "metadata": {},
   "outputs": [
    {
     "name": "stdout",
     "output_type": "stream",
     "text": [
      "abcde\n",
      "\n",
      "a\n",
      "\n",
      "abcde\n",
      "\n",
      "7\n"
     ]
    }
   ],
   "source": [
    "with open(\"data/ornek2.txt\",\"r\") as file:\n",
    "    print(file.readline())\n",
    "    print(file.readline())\n",
    "    file.seek(0)\n",
    "    print(file.readline())\n",
    "    print(file.tell()) #imlecin nerede kaldığını gösterir.\n",
    "     \n",
    "    \n",
    "    \n",
    "    "
   ]
  },
  {
   "cell_type": "code",
   "execution_count": 63,
   "metadata": {},
   "outputs": [
    {
     "name": "stdout",
     "output_type": "stream",
     "text": [
      "24\n"
     ]
    }
   ],
   "source": [
    "liste=[\"isim\",\"soyisim\",\"doğumyili\",\"dogumTarihi\"]\n",
    "with open(\"data/bilgiler.txt\",\"a+\") as file:\n",
    "    #oku=file.read()\n",
    "    file.seek(0)\n",
    "    print(file.write(\"Kişisel Bilgilerimiz...\\n\"))\n",
    "\n",
    "          \n",
    "    \n",
    "    \n",
    "    #print(file.readline())"
   ]
  },
  {
   "cell_type": "code",
   "execution_count": 66,
   "metadata": {},
   "outputs": [
    {
     "data": {
      "text/plain": [
       "'dogumTarihi'"
      ]
     },
     "execution_count": 66,
     "metadata": {},
     "output_type": "execute_result"
    }
   ],
   "source": [
    "def dosyaOku(filename):\n",
    "    enUzun=0\n",
    "    kelime=\"\"\n",
    "    with open(filename, \"r\") as file:\n",
    "        metinler=file.read().split()\n",
    "        \n",
    "    for m in metinler:\n",
    "        if enUzun<len(m):\n",
    "            enUzun=len(m)\n",
    "            kelime=m\n",
    "    return kelime\n",
    "\n",
    "dosyaOku(\"data/bilgiler.txt\")"
   ]
  }
 ],
 "metadata": {
  "kernelspec": {
   "display_name": "Python 3",
   "language": "python",
   "name": "python3"
  },
  "language_info": {
   "codemirror_mode": {
    "name": "ipython",
    "version": 3
   },
   "file_extension": ".py",
   "mimetype": "text/x-python",
   "name": "python",
   "nbconvert_exporter": "python",
   "pygments_lexer": "ipython3",
   "version": "3.10.2"
  },
  "orig_nbformat": 4
 },
 "nbformat": 4,
 "nbformat_minor": 2
}
