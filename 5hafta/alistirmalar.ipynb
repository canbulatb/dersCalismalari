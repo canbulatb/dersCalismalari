{
 "cells": [
  {
   "cell_type": "code",
   "execution_count": 3,
   "metadata": {},
   "outputs": [
    {
     "name": "stdout",
     "output_type": "stream",
     "text": [
      "Merhaba\n"
     ]
    }
   ],
   "source": [
    "def selamla():\n",
    "    print(\"Merhaba\")\n",
    "selamla()"
   ]
  },
  {
   "cell_type": "code",
   "execution_count": 6,
   "metadata": {},
   "outputs": [
    {
     "name": "stdout",
     "output_type": "stream",
     "text": [
      "Merhaba bilal \n"
     ]
    }
   ],
   "source": [
    "def selamla(ad, soyad):\n",
    "    print(\"Merhaba\",ad, soyad)\n",
    "selamla(\"bilal\",\"canbulat\")"
   ]
  },
  {
   "cell_type": "code",
   "execution_count": 9,
   "metadata": {},
   "outputs": [
    {
     "name": "stdout",
     "output_type": "stream",
     "text": [
      "12 sayisinin karesi 144 sayisidir.\n"
     ]
    }
   ],
   "source": [
    "def kareBul(sayi):\n",
    "    cikti=\"{} sayisinin karesi {} sayisidir.\"\n",
    "    print(cikti.format(sayi,sayi**2))\n",
    "kareBul(12)"
   ]
  },
  {
   "cell_type": "code",
   "execution_count": 13,
   "metadata": {},
   "outputs": [
    {
     "name": "stdout",
     "output_type": "stream",
     "text": [
      "merhaba\n",
      "None\n"
     ]
    }
   ],
   "source": [
    "def selamla():\n",
    "    print(\"merhaba\")\n",
    "result=selamla()\n",
    "print(result)"
   ]
  },
  {
   "cell_type": "code",
   "execution_count": 14,
   "metadata": {},
   "outputs": [
    {
     "name": "stdout",
     "output_type": "stream",
     "text": [
      "merhaba\n"
     ]
    }
   ],
   "source": [
    "def selamla():\n",
    "    return \"merhaba\"\n",
    "result=selamla()\n",
    "print(result)"
   ]
  },
  {
   "cell_type": "code",
   "execution_count": 16,
   "metadata": {},
   "outputs": [
    {
     "name": "stdout",
     "output_type": "stream",
     "text": [
      "5\n"
     ]
    }
   ],
   "source": [
    "liste=[1,2,3,3,3,3,3,4,6]\n",
    "print (liste.count(3))"
   ]
  },
  {
   "cell_type": "code",
   "execution_count": 19,
   "metadata": {},
   "outputs": [
    {
     "name": "stdout",
     "output_type": "stream",
     "text": [
      "1 2 3 3 3 3 3 4 6\n"
     ]
    }
   ],
   "source": [
    "liste.reverse()\n",
    "dondur=reversed(liste)\n",
    "print(*dondur)\n"
   ]
  },
  {
   "cell_type": "code",
   "execution_count": 20,
   "metadata": {},
   "outputs": [
    {
     "name": "stdout",
     "output_type": "stream",
     "text": [
      "merhaba Ali.\n"
     ]
    }
   ],
   "source": [
    "def isminNe():\n",
    "    isim=input(\"ismin ne? \")\n",
    "    return isim\n",
    "print(\"merhaba {}.\".format(isminNe()))"
   ]
  },
  {
   "cell_type": "code",
   "execution_count": 24,
   "metadata": {},
   "outputs": [
    {
     "name": "stdout",
     "output_type": "stream",
     "text": [
      "20\n"
     ]
    }
   ],
   "source": [
    "def ciftSayilariTopla(sayilar):\n",
    "    total=0\n",
    "    for sayi in sayilar:\n",
    "        if sayi%2==0:\n",
    "            total+=sayi\n",
    "    return total\n",
    "liste=[1,2,3,4,5,6,7,8]\n",
    "print(ciftSayilariTopla(liste))\n"
   ]
  },
  {
   "cell_type": "code",
   "execution_count": 27,
   "metadata": {},
   "outputs": [
    {
     "name": "stdout",
     "output_type": "stream",
     "text": [
      "True\n"
     ]
    }
   ],
   "source": [
    "def ciftSayimi(sayi):\n",
    "    if sayi%2==0:\n",
    "        return True\n",
    "    else:\n",
    "        return False\n",
    "    \n",
    "print(ciftSayimi(8))"
   ]
  },
  {
   "cell_type": "code",
   "execution_count": 1,
   "metadata": {},
   "outputs": [
    {
     "name": "stdout",
     "output_type": "stream",
     "text": [
      "30\n",
      "300\n"
     ]
    }
   ],
   "source": [
    "def topla(a=10, b=20):\n",
    "   return a+b\n",
    "print(topla()) \n",
    "print(topla(100,200)) "
   ]
  },
  {
   "cell_type": "code",
   "execution_count": 5,
   "metadata": {},
   "outputs": [
    {
     "name": "stdout",
     "output_type": "stream",
     "text": [
      "5\n",
      "-1\n"
     ]
    }
   ],
   "source": [
    "#istediğimiz fonksiyonu çağırıyoruz... \n",
    "def topla(a, b):\n",
    "   return a+b\n",
    "\n",
    "def mat(a,b,fn=topla):\n",
    "    return (fn(a,b))\n",
    "\n",
    "def cikar(a,b):\n",
    "    return a-b\n",
    "\n",
    "print(mat(2,3))\n",
    "print(mat(2,3,cikar))"
   ]
  },
  {
   "cell_type": "code",
   "execution_count": 22,
   "metadata": {},
   "outputs": [
    {
     "name": "stdout",
     "output_type": "stream",
     "text": [
      "False\n"
     ]
    }
   ],
   "source": [
    "def asalMi(sayi):\n",
    "    if sayi>1:\n",
    "        for i in range(2,sayi):\n",
    "            if sayi%i==0:\n",
    "                return False\n",
    "        return True\n",
    "    return False\n",
    "print(asalMi(1))"
   ]
  },
  {
   "cell_type": "code",
   "execution_count": 19,
   "metadata": {},
   "outputs": [
    {
     "name": "stdout",
     "output_type": "stream",
     "text": [
      "asal değil\n"
     ]
    }
   ],
   "source": [
    "def asal(sayi):\n",
    "    for i in range(2,sayi):\n",
    "        if sayi%i==0:\n",
    "            return \"asal değil\"\n",
    "    return \"asal\"\n",
    "print(asal(15))"
   ]
  },
  {
   "cell_type": "code",
   "execution_count": 27,
   "metadata": {},
   "outputs": [
    {
     "name": "stdout",
     "output_type": "stream",
     "text": [
      "Merhaba Ali\n"
     ]
    }
   ],
   "source": [
    "egitmen=\"Veli\"\n",
    "def selamla():\n",
    "    egitmen=\"Ali\"\n",
    "    return f\"Merhaba {egitmen}\"\n",
    "print(selamla())"
   ]
  },
  {
   "cell_type": "code",
   "execution_count": 34,
   "metadata": {},
   "outputs": [
    {
     "name": "stdout",
     "output_type": "stream",
     "text": [
      "20\n"
     ]
    },
    {
     "data": {
      "text/plain": [
       "'deneme yazıları'"
      ]
     },
     "execution_count": 34,
     "metadata": {},
     "output_type": "execute_result"
    }
   ],
   "source": [
    "sayi=15\n",
    "def sayiEkle():\n",
    "    \"\"\"deneme yazıları\"\"\"\n",
    "    sayi2=sayi\n",
    "    sayi2+=5\n",
    "    return sayi2\n",
    "print(sayiEkle())\n",
    "sayiEkle.__doc__\n"
   ]
  },
  {
   "cell_type": "code",
   "execution_count": 35,
   "metadata": {},
   "outputs": [
    {
     "name": "stdout",
     "output_type": "stream",
     "text": [
      "(1, 2, 3, 4)\n",
      "(15, 'burak')\n"
     ]
    }
   ],
   "source": [
    "def rakamlariGoster(*args):\n",
    "    print(args)\n",
    "\n",
    "rakamlariGoster(1,2,3,4)\n",
    "rakamlariGoster(15,\"burak\")"
   ]
  },
  {
   "cell_type": "code",
   "execution_count": 36,
   "metadata": {},
   "outputs": [
    {
     "name": "stdout",
     "output_type": "stream",
     "text": [
      "{'deger1': 'Burak', 'deger2': 20}\n",
      "{'deger1': 'Burak', 'deger2': 20, 'deger3': True, 'deger4': 14.2}\n"
     ]
    }
   ],
   "source": [
    "def fonksiyon (**kwargs):\n",
    "    print(kwargs)\n",
    "\n",
    "fonksiyon(deger1=\"Burak\", deger2=20)\n",
    "fonksiyon(deger1=\"Burak\", deger2=20, deger3=True, deger4=14.2)\n"
   ]
  },
  {
   "cell_type": "code",
   "execution_count": 43,
   "metadata": {},
   "outputs": [
    {
     "name": "stdout",
     "output_type": "stream",
     "text": [
      "üçle çarpım sonucu : 27\n"
     ]
    }
   ],
   "source": [
    "ucleCarp = lambda x : x *3\n",
    "\n",
    "print(\"üçle çarpım sonucu :\",ucleCarp(9))"
   ]
  },
  {
   "cell_type": "code",
   "execution_count": 47,
   "metadata": {},
   "outputs": [
    {
     "name": "stdout",
     "output_type": "stream",
     "text": [
      "15\n",
      "10\n",
      "15\n"
     ]
    }
   ],
   "source": [
    "def topla(s1,s2,s3):\n",
    "    return s1+s2+s3\n",
    "print(topla(3,4,8))\n",
    "\n",
    "toplam= lambda s1,s2,s3 : s1+s2+s3\n",
    "\n",
    "print(toplam(3,3,4))\n",
    "\n",
    "print((lambda *args : sum(args))(1,2,3,4,5))"
   ]
  },
  {
   "cell_type": "code",
   "execution_count": 50,
   "metadata": {},
   "outputs": [
    {
     "name": "stdout",
     "output_type": "stream",
     "text": [
      "[1, 4, 9, 16, 25]\n",
      "1 4 9 16 25\n"
     ]
    }
   ],
   "source": [
    "def kare(sayi):\n",
    "    return sayi*sayi\n",
    "sayilar = [1,2,3,4,5]\n",
    "liste=[]\n",
    "for i in sayilar:\n",
    "    liste.append(kare(i))\n",
    "print(liste)\n",
    "liste2=map(kare, sayilar)\n",
    "print(*liste2)"
   ]
  },
  {
   "cell_type": "code",
   "execution_count": 55,
   "metadata": {},
   "outputs": [
    {
     "name": "stdout",
     "output_type": "stream",
     "text": [
      "[1, 4, 9, 16, 25]\n"
     ]
    }
   ],
   "source": [
    "n=[1,2,3,4,5]\n",
    "kare=list(map(lambda x: x**2, n))\n",
    "print(kare)"
   ]
  },
  {
   "cell_type": "code",
   "execution_count": 60,
   "metadata": {},
   "outputs": [
    {
     "name": "stdout",
     "output_type": "stream",
     "text": [
      "[1, 3, 5, 7]\n",
      "[1, 3, 5, 7]\n"
     ]
    }
   ],
   "source": [
    "def tekSayi(sayi):\n",
    "    return sayi%2==1\n",
    "liste=[1,2,3,4,5,6,7]\n",
    "\n",
    "a=list(filter(tekSayi,liste))\n",
    "b=list(filter(lambda sayi: sayi%2==1, liste))\n",
    "\n",
    "print(a)\n",
    "print(b)\n"
   ]
  },
  {
   "cell_type": "code",
   "execution_count": 62,
   "metadata": {},
   "outputs": [
    {
     "name": "stdout",
     "output_type": "stream",
     "text": [
      "720\n"
     ]
    }
   ],
   "source": [
    "from functools import reduce\n",
    "\n",
    "def faktoriyel (sayi1, sayi2):\n",
    "    return (sayi1*sayi2)\n",
    "liste=[1,2,3,4,5,6]\n",
    "print(reduce(faktoriyel,liste))"
   ]
  }
 ],
 "metadata": {
  "kernelspec": {
   "display_name": "Python 3",
   "language": "python",
   "name": "python3"
  },
  "language_info": {
   "codemirror_mode": {
    "name": "ipython",
    "version": 3
   },
   "file_extension": ".py",
   "mimetype": "text/x-python",
   "name": "python",
   "nbconvert_exporter": "python",
   "pygments_lexer": "ipython3",
   "version": "3.10.2"
  },
  "orig_nbformat": 4
 },
 "nbformat": 4,
 "nbformat_minor": 2
}
