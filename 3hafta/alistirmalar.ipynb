{
 "cells": [
  {
   "cell_type": "code",
   "execution_count": 7,
   "metadata": {},
   "outputs": [
    {
     "name": "stdout",
     "output_type": "stream",
     "text": [
      "['a', 'b', 'c', 'd']\n"
     ]
    }
   ],
   "source": [
    "a=\"abcd\"\n",
    "print(list(a))"
   ]
  },
  {
   "cell_type": "code",
   "execution_count": 8,
   "metadata": {},
   "outputs": [
    {
     "name": "stdout",
     "output_type": "stream",
     "text": [
      "[1, 2, 1, 2, 1, 2]\n",
      "[1, 2, 1, 2, 1, 2]\n",
      "[[1, 2], [1, 2], [1, 2]]\n",
      "[[1, 2], [1, 2], [1, 2]]\n"
     ]
    }
   ],
   "source": [
    "a=[1,2]\n",
    "print(a+a+a)\n",
    "print(a*3)\n",
    "# çıktı [1, 2, 1, 2, 1, 2]\n",
    "print([a]+[a]+[a]) #liste içerisine almak istersek\n",
    "print([a]*3)# kısa yolu\n",
    "#çıktı [[1, 2], [1, 2], [1, 2]]\n"
   ]
  },
  {
   "cell_type": "code",
   "execution_count": 12,
   "metadata": {},
   "outputs": [
    {
     "name": "stdout",
     "output_type": "stream",
     "text": [
      "[2]\n",
      "1833498868160\n",
      "1833498868160\n"
     ]
    }
   ],
   "source": [
    "list1=[1]\n",
    "list2=list1\n",
    "list1[0]=2\n",
    "print(list2)\n",
    "#id adresleri aynı olduğu için list 2 de değişti. \n",
    "print(id(list1))\n",
    "print(id(list2))\n",
    "#çıktılar \n",
    "#1833498868160\n",
    "#1833498868160"
   ]
  },
  {
   "cell_type": "code",
   "execution_count": 14,
   "metadata": {},
   "outputs": [
    {
     "name": "stdout",
     "output_type": "stream",
     "text": [
      "False\n",
      "[]\n"
     ]
    }
   ],
   "source": [
    "myList=[10,8,6,4,2]\n",
    "print(5 in myList) #5 listede varsa true, yoksa false dönecek. şimdi false dönecek. \n",
    "del myList[:] #Listin tamamını siler\n",
    "myList.clear() # yukarıdaki işlemin aynısı yapar. içeriği temizler. \n",
    "print(myList) #çıktı boş olarak döner. "
   ]
  },
  {
   "cell_type": "code",
   "execution_count": 19,
   "metadata": {},
   "outputs": [
    {
     "name": "stdout",
     "output_type": "stream",
     "text": [
      "[2, 3]\n",
      "2\n",
      "4\n",
      "1\n"
     ]
    }
   ],
   "source": [
    "lst=[1,[2,3],4]\n",
    "print(lst[1])\n",
    "#[2, 3]\n",
    "print(lst[1][0])\n",
    "#2 (1. elemanın 0.elemanı. 1 1 olsaydı 3 verecekti.)\n",
    "print(lst[-1])\n",
    "#4 #son eleman\n",
    "print(lst[-3])\n",
    "# ilk elemana geldi. -4 olsaydı hata verecekti. out of range\n"
   ]
  },
  {
   "cell_type": "code",
   "execution_count": 25,
   "metadata": {},
   "outputs": [
    {
     "name": "stdout",
     "output_type": "stream",
     "text": [
      "a\n"
     ]
    },
    {
     "ename": "IndexError",
     "evalue": "string index out of range",
     "output_type": "error",
     "traceback": [
      "\u001b[1;31m---------------------------------------------------------------------------\u001b[0m",
      "\u001b[1;31mIndexError\u001b[0m                                Traceback (most recent call last)",
      "\u001b[1;32mc:\\VIT Projesi\\dersCalismalari\\dersCalismalari\\3hafta\\alistirmalar.ipynb Cell 6\u001b[0m in \u001b[0;36m3\n\u001b[0;32m      <a href='vscode-notebook-cell:/c%3A/VIT%20Projesi/dersCalismalari/dersCalismalari/3hafta/alistirmalar.ipynb#W5sZmlsZQ%3D%3D?line=0'>1</a>\u001b[0m n_list\u001b[39m=\u001b[39m\u001b[39mlist\u001b[39m([\u001b[39m\"\u001b[39m\u001b[39mHappy\u001b[39m\u001b[39m\"\u001b[39m,[\u001b[39m2\u001b[39m,\u001b[39m0\u001b[39m,\u001b[39m1\u001b[39m,\u001b[39m5\u001b[39m]])\n\u001b[0;32m      <a href='vscode-notebook-cell:/c%3A/VIT%20Projesi/dersCalismalari/dersCalismalari/3hafta/alistirmalar.ipynb#W5sZmlsZQ%3D%3D?line=1'>2</a>\u001b[0m \u001b[39mprint\u001b[39m(n_list[\u001b[39m0\u001b[39m][\u001b[39m1\u001b[39m])\n\u001b[1;32m----> <a href='vscode-notebook-cell:/c%3A/VIT%20Projesi/dersCalismalari/dersCalismalari/3hafta/alistirmalar.ipynb#W5sZmlsZQ%3D%3D?line=2'>3</a>\u001b[0m \u001b[39mprint\u001b[39m(n_list[\u001b[39m0\u001b[39;49m][\u001b[39m0\u001b[39;49m][\u001b[39m1\u001b[39;49m])\n",
      "\u001b[1;31mIndexError\u001b[0m: string index out of range"
     ]
    }
   ],
   "source": [
    "n_list=[\"Happy\",[2,0,1,5]]\n",
    "print(n_list[0][1])\n",
    "print(n_list[0][0][1])\n",
    "#3 olmadığı için hata veriyor. "
   ]
  },
  {
   "cell_type": "code",
   "execution_count": 41,
   "metadata": {},
   "outputs": [
    {
     "name": "stdout",
     "output_type": "stream",
     "text": [
      "['p', 'r', 'o']\n",
      "['r', 'a', 'm', 'i', 'z']\n",
      "['r', 'a', 'm', 'i', 'z']\n",
      "['p', 'r', 'o', 'g', 'r', 'a', 'm']\n",
      "['g', 'r', 'a', 'm']\n",
      "['m', 'i']\n",
      "['p', 'o', 'r', 'm', 'z']\n",
      "['p']\n",
      "['z', 'i', 'm', 'a', 'r', 'g', 'o', 'r', 'p']\n",
      "[]\n",
      "['m', 'a', 'r', 'g']\n",
      "['z', 'i', 'm', 'a', 'r', 'g', 'o', 'r', 'p']\n",
      "1\n"
     ]
    }
   ],
   "source": [
    "my_list=list(\"programiz\")\n",
    "print(my_list[0:3])\n",
    "#['p', 'r', 'o']\n",
    "print(my_list[4:])\n",
    "#['r', 'a', 'm', 'i', 'z']\n",
    "print(my_list[4:99])\n",
    "#['r', 'a', 'm', 'i', 'z']\n",
    "print(my_list[:-2])\n",
    "#['p', 'r', 'o', 'g', 'r', 'a', 'm']\n",
    "print(my_list[3:-2])\n",
    "#['g', 'r', 'a', 'm']\n",
    "print(my_list[-3:-1])\n",
    "#['m', 'i']\n",
    "#print(my_list[başlangıç : bitiş : adım]) başlangıç ve bitiş değerleri önemli...\n",
    "print(my_list[::2])\n",
    "['p', 'o', 'r', 'm', 'z']\n",
    "print(my_list[::101])\n",
    "#['p']\n",
    "print(my_list[::-1])\n",
    "#['z', 'i', 'm', 'a', 'r', 'g', 'o', 'r', 'p']\n",
    "print(my_list[2:6:-1])\n",
    "#[]\n",
    "print(my_list[6:2:-1])\n",
    "#['m', 'a', 'r', 'g']\n",
    "print(my_list[987987987:-98798798792:-1])\n",
    "#['z', 'i', 'm', 'a', 'r', 'g', 'o', 'r', 'p']\n",
    "print(my_list.index(\"r\"))\n"
   ]
  },
  {
   "cell_type": "code",
   "execution_count": 42,
   "metadata": {},
   "outputs": [
    {
     "name": "stdout",
     "output_type": "stream",
     "text": [
      "5\n",
      "[1, 3, 6, 10, 15]\n"
     ]
    }
   ],
   "source": [
    "list_a=[1,2,3,4,5]\n",
    "list_b=[]\n",
    "add=0\n",
    "\n",
    "for sayi in list_a:\n",
    "    add+=sayi\n",
    "    list_b.append(add)\n",
    "print(sayi)\n",
    "print(list_b)\n",
    "#5 \n",
    "#[1, 3, 6, 10, 15]"
   ]
  },
  {
   "cell_type": "code",
   "execution_count": 45,
   "metadata": {},
   "outputs": [
    {
     "name": "stdout",
     "output_type": "stream",
     "text": [
      "[1, 2, 3, 4, 8, 10, 5]\n"
     ]
    }
   ],
   "source": [
    "list_a=[1,2,3,4,5]\n",
    "b=10\n",
    "list_a.insert(4,b) # 4 indekse ekledi. 4. indeksi kaydırdı. \n",
    "#[1, 2, 3, 4, 10, 5]\n",
    "list_a.insert(-1,8) #son indekse ekledi. sonu bir daha kaydırdı. \n",
    "#[1, 2, 3, 4, 10, 8, 5]\n",
    "print(list_a)"
   ]
  },
  {
   "cell_type": "code",
   "execution_count": 50,
   "metadata": {},
   "outputs": [
    {
     "name": "stdout",
     "output_type": "stream",
     "text": [
      "[' ', '1', 'D', 'F']\n",
      "['D', ' ', 'F', '1']\n",
      "[' ', '1', 'D', 'F']\n"
     ]
    }
   ],
   "source": [
    "lst=[\"D\",\" \",\"F\",\"1\"]\n",
    "\n",
    "print(sorted(lst))#liste değişmedi.\n",
    "print(lst)\n",
    "lst.sort()\n",
    "print(lst) #liste değişti."
   ]
  },
  {
   "cell_type": "code",
   "execution_count": 54,
   "metadata": {},
   "outputs": [
    {
     "name": "stdout",
     "output_type": "stream",
     "text": [
      "[1, 2, 3]\n",
      "[3, 2, 1]\n"
     ]
    }
   ],
   "source": [
    "a=3 \n",
    "b=1 \n",
    "c=2\n",
    "\n",
    "lst=[b,c,a]\n",
    "lstb=[\"a\",1,\" \"]\n",
    "lst.sort()\n",
    "#lstb.sort() #bu satır hata verir. str ve int karışık olmuyor. \n",
    "print(lst)\n",
    "lst.reverse()\n",
    "print(lst)"
   ]
  },
  {
   "cell_type": "code",
   "execution_count": 64,
   "metadata": {},
   "outputs": [
    {
     "name": "stdout",
     "output_type": "stream",
     "text": [
      "[2, 3, 4, 5]\n",
      "[2, 3, 4]\n"
     ]
    }
   ],
   "source": [
    "list = [1,2,3,4,5]\n",
    "list.remove(list[0])\n",
    "print(list)\n",
    "a=list.pop()\n",
    "print(list)\n"
   ]
  },
  {
   "cell_type": "code",
   "execution_count": 66,
   "metadata": {},
   "outputs": [
    {
     "data": {
      "text/plain": [
       "['__call__',\n",
       " '__class__',\n",
       " '__delattr__',\n",
       " '__dir__',\n",
       " '__doc__',\n",
       " '__eq__',\n",
       " '__format__',\n",
       " '__ge__',\n",
       " '__getattribute__',\n",
       " '__gt__',\n",
       " '__hash__',\n",
       " '__init__',\n",
       " '__init_subclass__',\n",
       " '__le__',\n",
       " '__lt__',\n",
       " '__module__',\n",
       " '__name__',\n",
       " '__ne__',\n",
       " '__new__',\n",
       " '__qualname__',\n",
       " '__reduce__',\n",
       " '__reduce_ex__',\n",
       " '__repr__',\n",
       " '__self__',\n",
       " '__setattr__',\n",
       " '__sizeof__',\n",
       " '__str__',\n",
       " '__subclasshook__',\n",
       " '__text_signature__']"
      ]
     },
     "execution_count": 66,
     "metadata": {},
     "output_type": "execute_result"
    }
   ],
   "source": [
    "list = [1,2,3,4,5]\n",
    "dir(list)\n",
    "dir(sorted)\n"
   ]
  }
 ],
 "metadata": {
  "kernelspec": {
   "display_name": "Python 3",
   "language": "python",
   "name": "python3"
  },
  "language_info": {
   "codemirror_mode": {
    "name": "ipython",
    "version": 3
   },
   "file_extension": ".py",
   "mimetype": "text/x-python",
   "name": "python",
   "nbconvert_exporter": "python",
   "pygments_lexer": "ipython3",
   "version": "3.10.2"
  },
  "orig_nbformat": 4
 },
 "nbformat": 4,
 "nbformat_minor": 2
}
